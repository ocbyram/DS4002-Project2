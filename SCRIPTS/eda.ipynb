{
 "cells": [
  {
   "cell_type": "code",
   "execution_count": 15,
   "metadata": {},
   "outputs": [
    {
     "data": {
      "text/html": [
       "<div>\n",
       "<style scoped>\n",
       "    .dataframe tbody tr th:only-of-type {\n",
       "        vertical-align: middle;\n",
       "    }\n",
       "\n",
       "    .dataframe tbody tr th {\n",
       "        vertical-align: top;\n",
       "    }\n",
       "\n",
       "    .dataframe thead th {\n",
       "        text-align: right;\n",
       "    }\n",
       "</style>\n",
       "<table border=\"1\" class=\"dataframe\">\n",
       "  <thead>\n",
       "    <tr style=\"text-align: right;\">\n",
       "      <th></th>\n",
       "      <th>STATION</th>\n",
       "      <th>NAME</th>\n",
       "      <th>DATE</th>\n",
       "      <th>PRCP</th>\n",
       "      <th>SNOW</th>\n",
       "      <th>SNWD</th>\n",
       "      <th>TMAX</th>\n",
       "      <th>TMIN</th>\n",
       "      <th>TOBS</th>\n",
       "      <th>date</th>\n",
       "      <th>days_since_2012</th>\n",
       "    </tr>\n",
       "  </thead>\n",
       "  <tbody>\n",
       "    <tr>\n",
       "      <th>0</th>\n",
       "      <td>USC00441593</td>\n",
       "      <td>CHARLOTTESVILLE 2 W, VA US</td>\n",
       "      <td>2012-01-01</td>\n",
       "      <td>0.00</td>\n",
       "      <td>0.0</td>\n",
       "      <td>0.0</td>\n",
       "      <td>57.0</td>\n",
       "      <td>36.0</td>\n",
       "      <td>36.0</td>\n",
       "      <td>2012-01-01</td>\n",
       "      <td>0</td>\n",
       "    </tr>\n",
       "    <tr>\n",
       "      <th>1</th>\n",
       "      <td>USC00441593</td>\n",
       "      <td>CHARLOTTESVILLE 2 W, VA US</td>\n",
       "      <td>2012-01-02</td>\n",
       "      <td>0.01</td>\n",
       "      <td>0.0</td>\n",
       "      <td>0.0</td>\n",
       "      <td>58.0</td>\n",
       "      <td>32.0</td>\n",
       "      <td>32.0</td>\n",
       "      <td>2012-01-02</td>\n",
       "      <td>1</td>\n",
       "    </tr>\n",
       "    <tr>\n",
       "      <th>2</th>\n",
       "      <td>USC00441593</td>\n",
       "      <td>CHARLOTTESVILLE 2 W, VA US</td>\n",
       "      <td>2012-01-03</td>\n",
       "      <td>0.00</td>\n",
       "      <td>0.0</td>\n",
       "      <td>0.0</td>\n",
       "      <td>40.0</td>\n",
       "      <td>24.0</td>\n",
       "      <td>24.0</td>\n",
       "      <td>2012-01-03</td>\n",
       "      <td>2</td>\n",
       "    </tr>\n",
       "    <tr>\n",
       "      <th>3</th>\n",
       "      <td>USC00441593</td>\n",
       "      <td>CHARLOTTESVILLE 2 W, VA US</td>\n",
       "      <td>2012-01-04</td>\n",
       "      <td>0.00</td>\n",
       "      <td>0.0</td>\n",
       "      <td>NaN</td>\n",
       "      <td>30.0</td>\n",
       "      <td>16.0</td>\n",
       "      <td>18.0</td>\n",
       "      <td>2012-01-04</td>\n",
       "      <td>3</td>\n",
       "    </tr>\n",
       "    <tr>\n",
       "      <th>4</th>\n",
       "      <td>USC00441593</td>\n",
       "      <td>CHARLOTTESVILLE 2 W, VA US</td>\n",
       "      <td>2012-01-05</td>\n",
       "      <td>0.00</td>\n",
       "      <td>0.0</td>\n",
       "      <td>0.0</td>\n",
       "      <td>37.0</td>\n",
       "      <td>18.0</td>\n",
       "      <td>37.0</td>\n",
       "      <td>2012-01-05</td>\n",
       "      <td>4</td>\n",
       "    </tr>\n",
       "  </tbody>\n",
       "</table>\n",
       "</div>"
      ],
      "text/plain": [
       "       STATION                        NAME        DATE  PRCP  SNOW  SNWD  \\\n",
       "0  USC00441593  CHARLOTTESVILLE 2 W, VA US  2012-01-01  0.00   0.0   0.0   \n",
       "1  USC00441593  CHARLOTTESVILLE 2 W, VA US  2012-01-02  0.01   0.0   0.0   \n",
       "2  USC00441593  CHARLOTTESVILLE 2 W, VA US  2012-01-03  0.00   0.0   0.0   \n",
       "3  USC00441593  CHARLOTTESVILLE 2 W, VA US  2012-01-04  0.00   0.0   NaN   \n",
       "4  USC00441593  CHARLOTTESVILLE 2 W, VA US  2012-01-05  0.00   0.0   0.0   \n",
       "\n",
       "   TMAX  TMIN  TOBS       date  days_since_2012  \n",
       "0  57.0  36.0  36.0 2012-01-01                0  \n",
       "1  58.0  32.0  32.0 2012-01-02                1  \n",
       "2  40.0  24.0  24.0 2012-01-03                2  \n",
       "3  30.0  16.0  18.0 2012-01-04                3  \n",
       "4  37.0  18.0  37.0 2012-01-05                4  "
      ]
     },
     "execution_count": 15,
     "metadata": {},
     "output_type": "execute_result"
    }
   ],
   "source": [
    "import pandas as pd\n",
    "import matplotlib.pyplot as plt\n",
    "\n",
    "df = pd.read_csv('weather.csv')\n",
    "df.drop(['WESD', \"WT01\", \"WT03\", \"WT04\", \"WT05\", \"WT06\", \"WT11\"], axis=1, inplace=True)\n",
    "df['date'] = pd.to_datetime(df['DATE'])\n",
    "start_date = pd.to_datetime('2012-01-01')\n",
    "df['days_since_2012'] = (df['date'] - start_date).dt.days\n",
    "\n",
    "df.head(5)"
   ]
  },
  {
   "cell_type": "code",
   "execution_count": 26,
   "metadata": {},
   "outputs": [
    {
     "ename": "SyntaxError",
     "evalue": "'(' was never closed (2215854768.py, line 3)",
     "output_type": "error",
     "traceback": [
      "\u001b[0;36m  Cell \u001b[0;32mIn[26], line 3\u001b[0;36m\u001b[0m\n\u001b[0;31m    plt.ylabel('TOBS (measured temperature)'\u001b[0m\n\u001b[0m              ^\u001b[0m\n\u001b[0;31mSyntaxError\u001b[0m\u001b[0;31m:\u001b[0m '(' was never closed\n"
     ]
    }
   ],
   "source": [
    "plt.scatter(df['days_since_2012'], df['TOBS'])\n",
    "plt.xlabel('Days since start of dataset')\n",
    "plt.ylabel('TOBS (measured temperature)')\n",
    "plt.title('Scatterplot of Date (Days since start of dataset) vs TOBS (Measured temperature)')\n",
    "plt.show()"
   ]
  },
  {
   "cell_type": "code",
   "execution_count": 23,
   "metadata": {},
   "outputs": [
    {
     "data": {
      "image/png": "[encoded data removed]",
      "text/plain": [
       "<Figure size 1000x600 with 1 Axes>"
      ]
     },
     "metadata": {},
     "output_type": "display_data"
    }
   ],
   "source": [
    "# Extract year from date\n",
    "df['year'] = df['date'].dt.year\n",
    "\n",
    "# Group by year and calculate average temperature\n",
    "average_temp_yearly = df.groupby('year')['TOBS'].mean()\n",
    "\n",
    "# Plot average temperature each year\n",
    "plt.figure(figsize=(10, 6))\n",
    "plt.scatter(average_temp_yearly.index, average_temp_yearly.values, color='blue')\n",
    "plt.xlabel('Year')\n",
    "plt.ylabel('Average Temperature (TOBS)')\n",
    "plt.title('Average Temperature Each Year')\n",
    "plt.grid(True)\n",
    "plt.show()"
   ]
  }
 ],
 "metadata": {
  "kernelspec": {
   "display_name": "Python 3",
   "language": "python",
   "name": "python3"
  },
  "language_info": {
   "codemirror_mode": {
    "name": "ipython",
    "version": 3
   },
   "file_extension": ".py",
   "mimetype": "text/x-python",
   "name": "python",
   "nbconvert_exporter": "python",
   "pygments_lexer": "ipython3",
   "version": "3.10.12"
  },
  "orig_nbformat": 4
 },
 "nbformat": 4,
 "nbformat_minor": 2
}
